{
    "metadata": {
        "kernelspec": {
            "name": "SQL",
            "display_name": "SQL",
            "language": "sql"
        },
        "language_info": {
            "name": "sql",
            "version": ""
        },
        "extensions": {
            "azuredatastudio": {
                "version": 1,
                "views": []
            }
        }
    },
    "nbformat_minor": 2,
    "nbformat": 4,
    "cells": [
        {
            "cell_type": "markdown",
            "source": [
                "# Basic T-SQL Querying\r\n",
                "\r\n",
                "This notebook covers simple SQL queries using the `SELECT` keywords. The different concepts covered here is as follows:\r\n",
                "\r\n",
                "- Selecting all records from a table\r\n",
                "- Selecting specific columns from a table\r\n",
                "- Selecting distinct items from column(s)\r\n",
                "- Selecting TOP-N records\r\n",
                "- Selecting TOP-N % records\r\n",
                "- Sorting the results in ascending & descending order\r\n",
                "- Filtering the results with `WHERE` clause\r\n",
                "    - Filtering with the use of `IN` Keyword\r\n",
                "    - Filtering with the use of `BETWEEN` Keyword\r\n",
                "    - Filtering with the use of `AND` & `OR` operators\r\n",
                "- Wildcard Text Filtering with `LIKE` Keyword"
            ],
            "metadata": {
                "azdata_cell_guid": "76234ac7-d25a-4312-a031-279eae313129"
            }
        },
        {
            "cell_type": "markdown",
            "source": [
                "### Connecting to `DemoDB` Database\r\n",
                "\r\n",
                "The following query connects to the `DemoDB` database"
            ],
            "metadata": {
                "azdata_cell_guid": "0cf23761-f265-471f-acc1-df640334baf1"
            }
        },
        {
            "cell_type": "code",
            "source": [
                "USE DemoDB\r\n",
                "GO"
            ],
            "metadata": {
                "azdata_cell_guid": "bc8d1d49-cf3c-49e3-813e-d05e033b9d6b"
            },
            "outputs": [
                {
                    "output_type": "display_data",
                    "data": {
                        "text/html": "Commands completed successfully."
                    },
                    "metadata": {}
                },
                {
                    "output_type": "display_data",
                    "data": {
                        "text/html": "Total execution time: 00:00:00.001"
                    },
                    "metadata": {}
                }
            ],
            "execution_count": 2
        },
        {
            "cell_type": "markdown",
            "source": [
                "### Selecting All Records\r\n",
                "\r\n",
                "The following query selects all records from the `person` table:"
            ],
            "metadata": {
                "azdata_cell_guid": "ae88b81c-8532-4298-bea7-a0210a3cf516"
            }
        },
        {
            "cell_type": "code",
            "source": [
                "SELECT * FROM dbo.person"
            ],
            "metadata": {
                "azdata_cell_guid": "3c617141-d655-4025-b66a-302cd3e0ca2a"
            },
            "outputs": [
                {
                    "output_type": "display_data",
                    "data": {
                        "text/html": "(10 rows affected)"
                    },
                    "metadata": {}
                },
                {
                    "output_type": "display_data",
                    "data": {
                        "text/html": "Total execution time: 00:00:00.058"
                    },
                    "metadata": {}
                },
                {
                    "output_type": "execute_result",
                    "metadata": {},
                    "execution_count": 3,
                    "data": {
                        "application/vnd.dataresource+json": {
                            "schema": {
                                "fields": [
                                    {
                                        "name": "id"
                                    },
                                    {
                                        "name": "name"
                                    },
                                    {
                                        "name": "age"
                                    },
                                    {
                                        "name": "gender_id"
                                    },
                                    {
                                        "name": "city"
                                    },
                                    {
                                        "name": "email"
                                    }
                                ]
                            },
                            "data": [
                                {
                                    "0": "100",
                                    "1": "Rockie",
                                    "2": "58",
                                    "3": "2",
                                    "4": "New York",
                                    "5": "r@t.com"
                                },
                                {
                                    "0": "101",
                                    "1": "Paul",
                                    "2": "25",
                                    "3": "3",
                                    "4": "Chicago",
                                    "5": "schasmar1@artisteer.com"
                                },
                                {
                                    "0": "102",
                                    "1": "Henka",
                                    "2": "88",
                                    "3": "2",
                                    "4": "Houston",
                                    "5": "hhardwicke2$japanpost.jp"
                                },
                                {
                                    "0": "103",
                                    "1": "Eolande",
                                    "2": "58",
                                    "3": "3",
                                    "4": "Los Angeles",
                                    "5": "erapinett3@irs.gov"
                                },
                                {
                                    "0": "104",
                                    "1": "Weston",
                                    "2": "86",
                                    "3": "2",
                                    "4": "Dallas",
                                    "5": "wjewke4$desdev.cn"
                                },
                                {
                                    "0": "105",
                                    "1": "Bernie",
                                    "2": "80",
                                    "3": "2",
                                    "4": "Atlanta",
                                    "5": "bpauly5@ning.com"
                                },
                                {
                                    "0": "106",
                                    "1": "Craggy",
                                    "2": "70",
                                    "3": "1",
                                    "4": "Los Angeles",
                                    "5": "c@g.fr"
                                },
                                {
                                    "0": "107",
                                    "1": "Giordano",
                                    "2": "65",
                                    "3": "2",
                                    "4": "New York",
                                    "5": "gburgwyn7@spiegel.de"
                                },
                                {
                                    "0": "108",
                                    "1": "Regen",
                                    "2": "84",
                                    "3": "3",
                                    "4": "Saint Paul",
                                    "5": "roppery8@diigo.com"
                                },
                                {
                                    "0": "109",
                                    "1": "Paul",
                                    "2": "41",
                                    "3": "2",
                                    "4": "Chicago",
                                    "5": "pbeeson9@newsvine.com"
                                }
                            ]
                        },
                        "text/html": [
                            "<table>",
                            "<tr><th>id</th><th>name</th><th>age</th><th>gender_id</th><th>city</th><th>email</th></tr>",
                            "<tr><td>100</td><td>Rockie</td><td>58</td><td>2</td><td>New York</td><td>r@t.com</td></tr>",
                            "<tr><td>101</td><td>Paul</td><td>25</td><td>3</td><td>Chicago</td><td>schasmar1@artisteer.com</td></tr>",
                            "<tr><td>102</td><td>Henka</td><td>88</td><td>2</td><td>Houston</td><td>hhardwicke2$japanpost.jp</td></tr>",
                            "<tr><td>103</td><td>Eolande</td><td>58</td><td>3</td><td>Los Angeles</td><td>erapinett3@irs.gov</td></tr>",
                            "<tr><td>104</td><td>Weston</td><td>86</td><td>2</td><td>Dallas</td><td>wjewke4$desdev.cn</td></tr>",
                            "<tr><td>105</td><td>Bernie</td><td>80</td><td>2</td><td>Atlanta</td><td>bpauly5@ning.com</td></tr>",
                            "<tr><td>106</td><td>Craggy</td><td>70</td><td>1</td><td>Los Angeles</td><td>c@g.fr</td></tr>",
                            "<tr><td>107</td><td>Giordano</td><td>65</td><td>2</td><td>New York</td><td>gburgwyn7@spiegel.de</td></tr>",
                            "<tr><td>108</td><td>Regen</td><td>84</td><td>3</td><td>Saint Paul</td><td>roppery8@diigo.com</td></tr>",
                            "<tr><td>109</td><td>Paul</td><td>41</td><td>2</td><td>Chicago</td><td>pbeeson9@newsvine.com</td></tr>",
                            "</table>"
                        ]
                    }
                }
            ],
            "execution_count": 3
        },
        {
            "cell_type": "markdown",
            "source": [
                "### Selecting All Records for Specific Columns\r\n",
                "\r\n",
                "The following query executes some specific columns from the `person` table:"
            ],
            "metadata": {
                "azdata_cell_guid": "7a5a5859-3436-41f0-aecc-109ca5598a5a"
            }
        },
        {
            "cell_type": "code",
            "source": [
                "SELECT \r\n",
                "    [name],\r\n",
                "    [age],\r\n",
                "    [email] \r\n",
                "FROM dbo.person"
            ],
            "metadata": {
                "azdata_cell_guid": "76c2c10d-f18f-4344-aa1c-11effb5ab726",
                "tags": []
            },
            "outputs": [
                {
                    "output_type": "display_data",
                    "data": {
                        "text/html": "(10 rows affected)"
                    },
                    "metadata": {}
                },
                {
                    "output_type": "display_data",
                    "data": {
                        "text/html": "Total execution time: 00:00:00.018"
                    },
                    "metadata": {}
                },
                {
                    "output_type": "execute_result",
                    "metadata": {},
                    "execution_count": 4,
                    "data": {
                        "application/vnd.dataresource+json": {
                            "schema": {
                                "fields": [
                                    {
                                        "name": "name"
                                    },
                                    {
                                        "name": "age"
                                    },
                                    {
                                        "name": "email"
                                    }
                                ]
                            },
                            "data": [
                                {
                                    "0": "Rockie",
                                    "1": "58",
                                    "2": "r@t.com"
                                },
                                {
                                    "0": "Paul",
                                    "1": "25",
                                    "2": "schasmar1@artisteer.com"
                                },
                                {
                                    "0": "Henka",
                                    "1": "88",
                                    "2": "hhardwicke2$japanpost.jp"
                                },
                                {
                                    "0": "Eolande",
                                    "1": "58",
                                    "2": "erapinett3@irs.gov"
                                },
                                {
                                    "0": "Weston",
                                    "1": "86",
                                    "2": "wjewke4$desdev.cn"
                                },
                                {
                                    "0": "Bernie",
                                    "1": "80",
                                    "2": "bpauly5@ning.com"
                                },
                                {
                                    "0": "Craggy",
                                    "1": "70",
                                    "2": "c@g.fr"
                                },
                                {
                                    "0": "Giordano",
                                    "1": "65",
                                    "2": "gburgwyn7@spiegel.de"
                                },
                                {
                                    "0": "Regen",
                                    "1": "84",
                                    "2": "roppery8@diigo.com"
                                },
                                {
                                    "0": "Paul",
                                    "1": "41",
                                    "2": "pbeeson9@newsvine.com"
                                }
                            ]
                        },
                        "text/html": [
                            "<table>",
                            "<tr><th>name</th><th>age</th><th>email</th></tr>",
                            "<tr><td>Rockie</td><td>58</td><td>r@t.com</td></tr>",
                            "<tr><td>Paul</td><td>25</td><td>schasmar1@artisteer.com</td></tr>",
                            "<tr><td>Henka</td><td>88</td><td>hhardwicke2$japanpost.jp</td></tr>",
                            "<tr><td>Eolande</td><td>58</td><td>erapinett3@irs.gov</td></tr>",
                            "<tr><td>Weston</td><td>86</td><td>wjewke4$desdev.cn</td></tr>",
                            "<tr><td>Bernie</td><td>80</td><td>bpauly5@ning.com</td></tr>",
                            "<tr><td>Craggy</td><td>70</td><td>c@g.fr</td></tr>",
                            "<tr><td>Giordano</td><td>65</td><td>gburgwyn7@spiegel.de</td></tr>",
                            "<tr><td>Regen</td><td>84</td><td>roppery8@diigo.com</td></tr>",
                            "<tr><td>Paul</td><td>41</td><td>pbeeson9@newsvine.com</td></tr>",
                            "</table>"
                        ]
                    }
                }
            ],
            "execution_count": 4
        },
        {
            "cell_type": "markdown",
            "source": [
                "### Selecting Distinct Items from Column(s)\r\n",
                "\r\n",
                "The following query executes the distinct city names present in the `city` column of the `person` table:"
            ],
            "metadata": {
                "azdata_cell_guid": "d9c8587e-f11a-47e7-91f2-346c9a88363c"
            }
        },
        {
            "cell_type": "code",
            "source": [
                "SELECT\r\n",
                "    DISTINCT [city]\r\n",
                "FROM\r\n",
                "    dbo.person"
            ],
            "metadata": {
                "azdata_cell_guid": "6628774d-ca27-4614-afe9-785d48b2648e"
            },
            "outputs": [
                {
                    "output_type": "display_data",
                    "data": {
                        "text/html": "(7 rows affected)"
                    },
                    "metadata": {}
                },
                {
                    "output_type": "display_data",
                    "data": {
                        "text/html": "Total execution time: 00:00:00.013"
                    },
                    "metadata": {}
                },
                {
                    "output_type": "execute_result",
                    "metadata": {},
                    "execution_count": 5,
                    "data": {
                        "application/vnd.dataresource+json": {
                            "schema": {
                                "fields": [
                                    {
                                        "name": "city"
                                    }
                                ]
                            },
                            "data": [
                                {
                                    "0": "Atlanta"
                                },
                                {
                                    "0": "Chicago"
                                },
                                {
                                    "0": "Dallas"
                                },
                                {
                                    "0": "Houston"
                                },
                                {
                                    "0": "Los Angeles"
                                },
                                {
                                    "0": "New York"
                                },
                                {
                                    "0": "Saint Paul"
                                }
                            ]
                        },
                        "text/html": [
                            "<table>",
                            "<tr><th>city</th></tr>",
                            "<tr><td>Atlanta</td></tr>",
                            "<tr><td>Chicago</td></tr>",
                            "<tr><td>Dallas</td></tr>",
                            "<tr><td>Houston</td></tr>",
                            "<tr><td>Los Angeles</td></tr>",
                            "<tr><td>New York</td></tr>",
                            "<tr><td>Saint Paul</td></tr>",
                            "</table>"
                        ]
                    }
                }
            ],
            "execution_count": 5
        },
        {
            "cell_type": "markdown",
            "source": [
                "The following query executes the distinct combination of cities and person names from the  `city` and `name` of the `person` table:"
            ],
            "metadata": {
                "azdata_cell_guid": "91123b1f-ef87-4217-a97a-8c6b95a02a77"
            }
        },
        {
            "cell_type": "code",
            "source": [
                "SELECT\r\n",
                "    DISTINCT [name], [city] \r\n",
                "FROM\r\n",
                "    dbo.person"
            ],
            "metadata": {
                "azdata_cell_guid": "4d06576c-d4a3-405b-8616-516c3602e724"
            },
            "outputs": [
                {
                    "output_type": "display_data",
                    "data": {
                        "text/html": "(9 rows affected)"
                    },
                    "metadata": {}
                },
                {
                    "output_type": "display_data",
                    "data": {
                        "text/html": "Total execution time: 00:00:00.018"
                    },
                    "metadata": {}
                },
                {
                    "output_type": "execute_result",
                    "metadata": {},
                    "execution_count": 6,
                    "data": {
                        "application/vnd.dataresource+json": {
                            "schema": {
                                "fields": [
                                    {
                                        "name": "name"
                                    },
                                    {
                                        "name": "city"
                                    }
                                ]
                            },
                            "data": [
                                {
                                    "0": "Bernie",
                                    "1": "Atlanta"
                                },
                                {
                                    "0": "Craggy",
                                    "1": "Los Angeles"
                                },
                                {
                                    "0": "Eolande",
                                    "1": "Los Angeles"
                                },
                                {
                                    "0": "Giordano",
                                    "1": "New York"
                                },
                                {
                                    "0": "Henka",
                                    "1": "Houston"
                                },
                                {
                                    "0": "Paul",
                                    "1": "Chicago"
                                },
                                {
                                    "0": "Regen",
                                    "1": "Saint Paul"
                                },
                                {
                                    "0": "Rockie",
                                    "1": "New York"
                                },
                                {
                                    "0": "Weston",
                                    "1": "Dallas"
                                }
                            ]
                        },
                        "text/html": [
                            "<table>",
                            "<tr><th>name</th><th>city</th></tr>",
                            "<tr><td>Bernie</td><td>Atlanta</td></tr>",
                            "<tr><td>Craggy</td><td>Los Angeles</td></tr>",
                            "<tr><td>Eolande</td><td>Los Angeles</td></tr>",
                            "<tr><td>Giordano</td><td>New York</td></tr>",
                            "<tr><td>Henka</td><td>Houston</td></tr>",
                            "<tr><td>Paul</td><td>Chicago</td></tr>",
                            "<tr><td>Regen</td><td>Saint Paul</td></tr>",
                            "<tr><td>Rockie</td><td>New York</td></tr>",
                            "<tr><td>Weston</td><td>Dallas</td></tr>",
                            "</table>"
                        ]
                    }
                }
            ],
            "execution_count": 6
        },
        {
            "cell_type": "markdown",
            "source": [
                "### Selecting TOP-N Records\r\n",
                "\r\n",
                "The following query executes the top 3 records from the `persons` table"
            ],
            "metadata": {
                "azdata_cell_guid": "6556af2c-29da-4c5a-b9bf-204dee1ef26e"
            }
        },
        {
            "cell_type": "code",
            "source": [
                "SELECT \r\n",
                "    TOP (3) *\r\n",
                "FROM\r\n",
                "    dbo.person"
            ],
            "metadata": {
                "azdata_cell_guid": "26598e51-7a87-476c-a277-4ca6907d3334"
            },
            "outputs": [
                {
                    "output_type": "display_data",
                    "data": {
                        "text/html": "(3 rows affected)"
                    },
                    "metadata": {}
                },
                {
                    "output_type": "display_data",
                    "data": {
                        "text/html": "Total execution time: 00:00:00.015"
                    },
                    "metadata": {}
                },
                {
                    "output_type": "execute_result",
                    "metadata": {},
                    "execution_count": 7,
                    "data": {
                        "application/vnd.dataresource+json": {
                            "schema": {
                                "fields": [
                                    {
                                        "name": "id"
                                    },
                                    {
                                        "name": "name"
                                    },
                                    {
                                        "name": "age"
                                    },
                                    {
                                        "name": "gender_id"
                                    },
                                    {
                                        "name": "city"
                                    },
                                    {
                                        "name": "email"
                                    }
                                ]
                            },
                            "data": [
                                {
                                    "0": "100",
                                    "1": "Rockie",
                                    "2": "58",
                                    "3": "2",
                                    "4": "New York",
                                    "5": "r@t.com"
                                },
                                {
                                    "0": "101",
                                    "1": "Paul",
                                    "2": "25",
                                    "3": "3",
                                    "4": "Chicago",
                                    "5": "schasmar1@artisteer.com"
                                },
                                {
                                    "0": "102",
                                    "1": "Henka",
                                    "2": "88",
                                    "3": "2",
                                    "4": "Houston",
                                    "5": "hhardwicke2$japanpost.jp"
                                }
                            ]
                        },
                        "text/html": [
                            "<table>",
                            "<tr><th>id</th><th>name</th><th>age</th><th>gender_id</th><th>city</th><th>email</th></tr>",
                            "<tr><td>100</td><td>Rockie</td><td>58</td><td>2</td><td>New York</td><td>r@t.com</td></tr>",
                            "<tr><td>101</td><td>Paul</td><td>25</td><td>3</td><td>Chicago</td><td>schasmar1@artisteer.com</td></tr>",
                            "<tr><td>102</td><td>Henka</td><td>88</td><td>2</td><td>Houston</td><td>hhardwicke2$japanpost.jp</td></tr>",
                            "</table>"
                        ]
                    }
                }
            ],
            "execution_count": 7
        },
        {
            "cell_type": "markdown",
            "source": [
                "The following query executes the top 3 records with just `name` and `age` column from the `persons` table"
            ],
            "metadata": {
                "azdata_cell_guid": "eb9eedd4-977f-4b34-9b87-b2aa31f2951b"
            }
        },
        {
            "cell_type": "code",
            "source": [
                "SELECT \r\n",
                "    TOP (3) [name], [age]\r\n",
                "FROM\r\n",
                "    dbo.person"
            ],
            "metadata": {
                "azdata_cell_guid": "faaf8c6c-87ce-429f-915a-f3f8a5cbbc5e"
            },
            "outputs": [
                {
                    "output_type": "display_data",
                    "data": {
                        "text/html": "(3 rows affected)"
                    },
                    "metadata": {}
                },
                {
                    "output_type": "display_data",
                    "data": {
                        "text/html": "Total execution time: 00:00:00.015"
                    },
                    "metadata": {}
                },
                {
                    "output_type": "execute_result",
                    "metadata": {},
                    "execution_count": 8,
                    "data": {
                        "application/vnd.dataresource+json": {
                            "schema": {
                                "fields": [
                                    {
                                        "name": "name"
                                    },
                                    {
                                        "name": "age"
                                    }
                                ]
                            },
                            "data": [
                                {
                                    "0": "Rockie",
                                    "1": "58"
                                },
                                {
                                    "0": "Paul",
                                    "1": "25"
                                },
                                {
                                    "0": "Henka",
                                    "1": "88"
                                }
                            ]
                        },
                        "text/html": [
                            "<table>",
                            "<tr><th>name</th><th>age</th></tr>",
                            "<tr><td>Rockie</td><td>58</td></tr>",
                            "<tr><td>Paul</td><td>25</td></tr>",
                            "<tr><td>Henka</td><td>88</td></tr>",
                            "</table>"
                        ]
                    }
                }
            ],
            "execution_count": 8
        },
        {
            "cell_type": "markdown",
            "source": [
                "### Selecting TOP-N % Records\r\n",
                "\r\n",
                "The following query executes the top 50% records from the `persons` table"
            ],
            "metadata": {
                "azdata_cell_guid": "00ed468a-1d5a-4f02-a0b2-abe6cbbabd06"
            }
        },
        {
            "cell_type": "code",
            "source": [
                "SELECT \r\n",
                "    TOP (50) PERCENT *\r\n",
                "FROM\r\n",
                "    dbo.person"
            ],
            "metadata": {
                "azdata_cell_guid": "cc63e731-5cf3-495a-a440-7b23534e54f7",
                "tags": []
            },
            "outputs": [
                {
                    "output_type": "display_data",
                    "data": {
                        "text/html": "(5 rows affected)"
                    },
                    "metadata": {}
                },
                {
                    "output_type": "display_data",
                    "data": {
                        "text/html": "Total execution time: 00:00:00.023"
                    },
                    "metadata": {}
                },
                {
                    "output_type": "execute_result",
                    "metadata": {},
                    "execution_count": 9,
                    "data": {
                        "application/vnd.dataresource+json": {
                            "schema": {
                                "fields": [
                                    {
                                        "name": "id"
                                    },
                                    {
                                        "name": "name"
                                    },
                                    {
                                        "name": "age"
                                    },
                                    {
                                        "name": "gender_id"
                                    },
                                    {
                                        "name": "city"
                                    },
                                    {
                                        "name": "email"
                                    }
                                ]
                            },
                            "data": [
                                {
                                    "0": "100",
                                    "1": "Rockie",
                                    "2": "58",
                                    "3": "2",
                                    "4": "New York",
                                    "5": "r@t.com"
                                },
                                {
                                    "0": "101",
                                    "1": "Paul",
                                    "2": "25",
                                    "3": "3",
                                    "4": "Chicago",
                                    "5": "schasmar1@artisteer.com"
                                },
                                {
                                    "0": "102",
                                    "1": "Henka",
                                    "2": "88",
                                    "3": "2",
                                    "4": "Houston",
                                    "5": "hhardwicke2$japanpost.jp"
                                },
                                {
                                    "0": "103",
                                    "1": "Eolande",
                                    "2": "58",
                                    "3": "3",
                                    "4": "Los Angeles",
                                    "5": "erapinett3@irs.gov"
                                },
                                {
                                    "0": "104",
                                    "1": "Weston",
                                    "2": "86",
                                    "3": "2",
                                    "4": "Dallas",
                                    "5": "wjewke4$desdev.cn"
                                }
                            ]
                        },
                        "text/html": [
                            "<table>",
                            "<tr><th>id</th><th>name</th><th>age</th><th>gender_id</th><th>city</th><th>email</th></tr>",
                            "<tr><td>100</td><td>Rockie</td><td>58</td><td>2</td><td>New York</td><td>r@t.com</td></tr>",
                            "<tr><td>101</td><td>Paul</td><td>25</td><td>3</td><td>Chicago</td><td>schasmar1@artisteer.com</td></tr>",
                            "<tr><td>102</td><td>Henka</td><td>88</td><td>2</td><td>Houston</td><td>hhardwicke2$japanpost.jp</td></tr>",
                            "<tr><td>103</td><td>Eolande</td><td>58</td><td>3</td><td>Los Angeles</td><td>erapinett3@irs.gov</td></tr>",
                            "<tr><td>104</td><td>Weston</td><td>86</td><td>2</td><td>Dallas</td><td>wjewke4$desdev.cn</td></tr>",
                            "</table>"
                        ]
                    }
                }
            ],
            "execution_count": 9
        },
        {
            "cell_type": "markdown",
            "source": [
                "The following query executes the top 30% records with just `name` and `age` column from the `persons` table"
            ],
            "metadata": {
                "azdata_cell_guid": "e35b2e55-bcb1-4b91-b31a-3cf0a6c17ce3"
            }
        },
        {
            "cell_type": "code",
            "source": [
                "SELECT \r\n",
                "    TOP (50) PERCENT [name], [age]\r\n",
                "FROM\r\n",
                "    dbo.person"
            ],
            "metadata": {
                "azdata_cell_guid": "2fe92030-3636-4c58-9292-c1b9f724f17d"
            },
            "outputs": [
                {
                    "output_type": "display_data",
                    "data": {
                        "text/html": "(5 rows affected)"
                    },
                    "metadata": {}
                },
                {
                    "output_type": "display_data",
                    "data": {
                        "text/html": "Total execution time: 00:00:00.016"
                    },
                    "metadata": {}
                },
                {
                    "output_type": "execute_result",
                    "metadata": {},
                    "execution_count": 10,
                    "data": {
                        "application/vnd.dataresource+json": {
                            "schema": {
                                "fields": [
                                    {
                                        "name": "name"
                                    },
                                    {
                                        "name": "age"
                                    }
                                ]
                            },
                            "data": [
                                {
                                    "0": "Rockie",
                                    "1": "58"
                                },
                                {
                                    "0": "Paul",
                                    "1": "25"
                                },
                                {
                                    "0": "Henka",
                                    "1": "88"
                                },
                                {
                                    "0": "Eolande",
                                    "1": "58"
                                },
                                {
                                    "0": "Weston",
                                    "1": "86"
                                }
                            ]
                        },
                        "text/html": [
                            "<table>",
                            "<tr><th>name</th><th>age</th></tr>",
                            "<tr><td>Rockie</td><td>58</td></tr>",
                            "<tr><td>Paul</td><td>25</td></tr>",
                            "<tr><td>Henka</td><td>88</td></tr>",
                            "<tr><td>Eolande</td><td>58</td></tr>",
                            "<tr><td>Weston</td><td>86</td></tr>",
                            "</table>"
                        ]
                    }
                }
            ],
            "execution_count": 10
        },
        {
            "cell_type": "markdown",
            "source": [
                "### Sorting the Query Output\r\n",
                "\r\n",
                "The following query selects all records from the person table and sorts them first by descending order of `age` column, ascending order of `gender_id` column and lastly by ascending order of `name` column"
            ],
            "metadata": {
                "azdata_cell_guid": "bca34ca9-2284-4d87-be54-c3b1356791c0"
            }
        },
        {
            "cell_type": "code",
            "source": [
                "SELECT\r\n",
                "    *\r\n",
                "FROM\r\n",
                "    dbo.person\r\n",
                "ORDER BY\r\n",
                "    age DESC, gender_id ASC, name ASC"
            ],
            "metadata": {
                "azdata_cell_guid": "2e0d11cd-d9a1-487e-9678-ae1a4ef1b426"
            },
            "outputs": [
                {
                    "output_type": "display_data",
                    "data": {
                        "text/html": "(10 rows affected)"
                    },
                    "metadata": {}
                },
                {
                    "output_type": "display_data",
                    "data": {
                        "text/html": "Total execution time: 00:00:00.021"
                    },
                    "metadata": {}
                },
                {
                    "output_type": "execute_result",
                    "metadata": {},
                    "execution_count": 11,
                    "data": {
                        "application/vnd.dataresource+json": {
                            "schema": {
                                "fields": [
                                    {
                                        "name": "id"
                                    },
                                    {
                                        "name": "name"
                                    },
                                    {
                                        "name": "age"
                                    },
                                    {
                                        "name": "gender_id"
                                    },
                                    {
                                        "name": "city"
                                    },
                                    {
                                        "name": "email"
                                    }
                                ]
                            },
                            "data": [
                                {
                                    "0": "102",
                                    "1": "Henka",
                                    "2": "88",
                                    "3": "2",
                                    "4": "Houston",
                                    "5": "hhardwicke2$japanpost.jp"
                                },
                                {
                                    "0": "104",
                                    "1": "Weston",
                                    "2": "86",
                                    "3": "2",
                                    "4": "Dallas",
                                    "5": "wjewke4$desdev.cn"
                                },
                                {
                                    "0": "108",
                                    "1": "Regen",
                                    "2": "84",
                                    "3": "3",
                                    "4": "Saint Paul",
                                    "5": "roppery8@diigo.com"
                                },
                                {
                                    "0": "105",
                                    "1": "Bernie",
                                    "2": "80",
                                    "3": "2",
                                    "4": "Atlanta",
                                    "5": "bpauly5@ning.com"
                                },
                                {
                                    "0": "106",
                                    "1": "Craggy",
                                    "2": "70",
                                    "3": "1",
                                    "4": "Los Angeles",
                                    "5": "c@g.fr"
                                },
                                {
                                    "0": "107",
                                    "1": "Giordano",
                                    "2": "65",
                                    "3": "2",
                                    "4": "New York",
                                    "5": "gburgwyn7@spiegel.de"
                                },
                                {
                                    "0": "100",
                                    "1": "Rockie",
                                    "2": "58",
                                    "3": "2",
                                    "4": "New York",
                                    "5": "r@t.com"
                                },
                                {
                                    "0": "103",
                                    "1": "Eolande",
                                    "2": "58",
                                    "3": "3",
                                    "4": "Los Angeles",
                                    "5": "erapinett3@irs.gov"
                                },
                                {
                                    "0": "109",
                                    "1": "Paul",
                                    "2": "41",
                                    "3": "2",
                                    "4": "Chicago",
                                    "5": "pbeeson9@newsvine.com"
                                },
                                {
                                    "0": "101",
                                    "1": "Paul",
                                    "2": "25",
                                    "3": "3",
                                    "4": "Chicago",
                                    "5": "schasmar1@artisteer.com"
                                }
                            ]
                        },
                        "text/html": [
                            "<table>",
                            "<tr><th>id</th><th>name</th><th>age</th><th>gender_id</th><th>city</th><th>email</th></tr>",
                            "<tr><td>102</td><td>Henka</td><td>88</td><td>2</td><td>Houston</td><td>hhardwicke2$japanpost.jp</td></tr>",
                            "<tr><td>104</td><td>Weston</td><td>86</td><td>2</td><td>Dallas</td><td>wjewke4$desdev.cn</td></tr>",
                            "<tr><td>108</td><td>Regen</td><td>84</td><td>3</td><td>Saint Paul</td><td>roppery8@diigo.com</td></tr>",
                            "<tr><td>105</td><td>Bernie</td><td>80</td><td>2</td><td>Atlanta</td><td>bpauly5@ning.com</td></tr>",
                            "<tr><td>106</td><td>Craggy</td><td>70</td><td>1</td><td>Los Angeles</td><td>c@g.fr</td></tr>",
                            "<tr><td>107</td><td>Giordano</td><td>65</td><td>2</td><td>New York</td><td>gburgwyn7@spiegel.de</td></tr>",
                            "<tr><td>100</td><td>Rockie</td><td>58</td><td>2</td><td>New York</td><td>r@t.com</td></tr>",
                            "<tr><td>103</td><td>Eolande</td><td>58</td><td>3</td><td>Los Angeles</td><td>erapinett3@irs.gov</td></tr>",
                            "<tr><td>109</td><td>Paul</td><td>41</td><td>2</td><td>Chicago</td><td>pbeeson9@newsvine.com</td></tr>",
                            "<tr><td>101</td><td>Paul</td><td>25</td><td>3</td><td>Chicago</td><td>schasmar1@artisteer.com</td></tr>",
                            "</table>"
                        ]
                    }
                }
            ],
            "execution_count": 11
        },
        {
            "cell_type": "markdown",
            "source": [
                "The following query finds the oldest person from the `people` table"
            ],
            "metadata": {
                "azdata_cell_guid": "5151c7d6-34d1-4a41-a398-0e6a4116dfb0"
            }
        },
        {
            "cell_type": "code",
            "source": [
                "SELECT \r\n",
                "    TOP (1) *\r\n",
                "FROM\r\n",
                "    dbo.person\r\n",
                "ORDER BY\r\n",
                "    age DESC"
            ],
            "metadata": {
                "azdata_cell_guid": "fd1a44f2-3dd1-410c-81d8-72eb19883759"
            },
            "outputs": [
                {
                    "output_type": "display_data",
                    "data": {
                        "text/html": "(1 row affected)"
                    },
                    "metadata": {}
                },
                {
                    "output_type": "display_data",
                    "data": {
                        "text/html": "Total execution time: 00:00:00.020"
                    },
                    "metadata": {}
                },
                {
                    "output_type": "execute_result",
                    "metadata": {},
                    "execution_count": 12,
                    "data": {
                        "application/vnd.dataresource+json": {
                            "schema": {
                                "fields": [
                                    {
                                        "name": "id"
                                    },
                                    {
                                        "name": "name"
                                    },
                                    {
                                        "name": "age"
                                    },
                                    {
                                        "name": "gender_id"
                                    },
                                    {
                                        "name": "city"
                                    },
                                    {
                                        "name": "email"
                                    }
                                ]
                            },
                            "data": [
                                {
                                    "0": "102",
                                    "1": "Henka",
                                    "2": "88",
                                    "3": "2",
                                    "4": "Houston",
                                    "5": "hhardwicke2$japanpost.jp"
                                }
                            ]
                        },
                        "text/html": [
                            "<table>",
                            "<tr><th>id</th><th>name</th><th>age</th><th>gender_id</th><th>city</th><th>email</th></tr>",
                            "<tr><td>102</td><td>Henka</td><td>88</td><td>2</td><td>Houston</td><td>hhardwicke2$japanpost.jp</td></tr>",
                            "</table>"
                        ]
                    }
                }
            ],
            "execution_count": 12
        },
        {
            "cell_type": "markdown",
            "source": [
                "### Filtering Query with `WHERE` Clause\r\n",
                "\r\n",
                "The following query executes all records from the  `person` table where  the city name is `'New York'`"
            ],
            "metadata": {
                "azdata_cell_guid": "d6d81df1-ea48-4400-af10-9afa72f3bb19"
            }
        },
        {
            "cell_type": "code",
            "source": [
                "SELECT\r\n",
                "    *\r\n",
                "FROM\r\n",
                "    dbo.person\r\n",
                "WHERE\r\n",
                "    city = 'New York'"
            ],
            "metadata": {
                "azdata_cell_guid": "da67c2f9-1665-40c6-9a01-22fc4d29d615"
            },
            "outputs": [
                {
                    "output_type": "display_data",
                    "data": {
                        "text/html": "(2 rows affected)"
                    },
                    "metadata": {}
                },
                {
                    "output_type": "display_data",
                    "data": {
                        "text/html": "Total execution time: 00:00:00.012"
                    },
                    "metadata": {}
                },
                {
                    "output_type": "execute_result",
                    "metadata": {},
                    "execution_count": 13,
                    "data": {
                        "application/vnd.dataresource+json": {
                            "schema": {
                                "fields": [
                                    {
                                        "name": "id"
                                    },
                                    {
                                        "name": "name"
                                    },
                                    {
                                        "name": "age"
                                    },
                                    {
                                        "name": "gender_id"
                                    },
                                    {
                                        "name": "city"
                                    },
                                    {
                                        "name": "email"
                                    }
                                ]
                            },
                            "data": [
                                {
                                    "0": "100",
                                    "1": "Rockie",
                                    "2": "58",
                                    "3": "2",
                                    "4": "New York",
                                    "5": "r@t.com"
                                },
                                {
                                    "0": "107",
                                    "1": "Giordano",
                                    "2": "65",
                                    "3": "2",
                                    "4": "New York",
                                    "5": "gburgwyn7@spiegel.de"
                                }
                            ]
                        },
                        "text/html": [
                            "<table>",
                            "<tr><th>id</th><th>name</th><th>age</th><th>gender_id</th><th>city</th><th>email</th></tr>",
                            "<tr><td>100</td><td>Rockie</td><td>58</td><td>2</td><td>New York</td><td>r@t.com</td></tr>",
                            "<tr><td>107</td><td>Giordano</td><td>65</td><td>2</td><td>New York</td><td>gburgwyn7@spiegel.de</td></tr>",
                            "</table>"
                        ]
                    }
                }
            ],
            "execution_count": 13
        },
        {
            "cell_type": "markdown",
            "source": [
                "The following query executes all records from the  `person` table where  the city name is not `'New York'`"
            ],
            "metadata": {
                "azdata_cell_guid": "c60676a7-8bf3-4925-bce2-2f1584bc9eeb"
            }
        },
        {
            "cell_type": "code",
            "source": [
                "SELECT\r\n",
                "    *\r\n",
                "FROM\r\n",
                "    dbo.person\r\n",
                "WHERE\r\n",
                "    city != 'New York'"
            ],
            "metadata": {
                "azdata_cell_guid": "8359f628-b621-4834-a676-88c7b290e90d"
            },
            "outputs": [
                {
                    "output_type": "display_data",
                    "data": {
                        "text/html": "(8 rows affected)"
                    },
                    "metadata": {}
                },
                {
                    "output_type": "display_data",
                    "data": {
                        "text/html": "Total execution time: 00:00:00.012"
                    },
                    "metadata": {}
                },
                {
                    "output_type": "execute_result",
                    "metadata": {},
                    "execution_count": 14,
                    "data": {
                        "application/vnd.dataresource+json": {
                            "schema": {
                                "fields": [
                                    {
                                        "name": "id"
                                    },
                                    {
                                        "name": "name"
                                    },
                                    {
                                        "name": "age"
                                    },
                                    {
                                        "name": "gender_id"
                                    },
                                    {
                                        "name": "city"
                                    },
                                    {
                                        "name": "email"
                                    }
                                ]
                            },
                            "data": [
                                {
                                    "0": "101",
                                    "1": "Paul",
                                    "2": "25",
                                    "3": "3",
                                    "4": "Chicago",
                                    "5": "schasmar1@artisteer.com"
                                },
                                {
                                    "0": "102",
                                    "1": "Henka",
                                    "2": "88",
                                    "3": "2",
                                    "4": "Houston",
                                    "5": "hhardwicke2$japanpost.jp"
                                },
                                {
                                    "0": "103",
                                    "1": "Eolande",
                                    "2": "58",
                                    "3": "3",
                                    "4": "Los Angeles",
                                    "5": "erapinett3@irs.gov"
                                },
                                {
                                    "0": "104",
                                    "1": "Weston",
                                    "2": "86",
                                    "3": "2",
                                    "4": "Dallas",
                                    "5": "wjewke4$desdev.cn"
                                },
                                {
                                    "0": "105",
                                    "1": "Bernie",
                                    "2": "80",
                                    "3": "2",
                                    "4": "Atlanta",
                                    "5": "bpauly5@ning.com"
                                },
                                {
                                    "0": "106",
                                    "1": "Craggy",
                                    "2": "70",
                                    "3": "1",
                                    "4": "Los Angeles",
                                    "5": "c@g.fr"
                                },
                                {
                                    "0": "108",
                                    "1": "Regen",
                                    "2": "84",
                                    "3": "3",
                                    "4": "Saint Paul",
                                    "5": "roppery8@diigo.com"
                                },
                                {
                                    "0": "109",
                                    "1": "Paul",
                                    "2": "41",
                                    "3": "2",
                                    "4": "Chicago",
                                    "5": "pbeeson9@newsvine.com"
                                }
                            ]
                        },
                        "text/html": [
                            "<table>",
                            "<tr><th>id</th><th>name</th><th>age</th><th>gender_id</th><th>city</th><th>email</th></tr>",
                            "<tr><td>101</td><td>Paul</td><td>25</td><td>3</td><td>Chicago</td><td>schasmar1@artisteer.com</td></tr>",
                            "<tr><td>102</td><td>Henka</td><td>88</td><td>2</td><td>Houston</td><td>hhardwicke2$japanpost.jp</td></tr>",
                            "<tr><td>103</td><td>Eolande</td><td>58</td><td>3</td><td>Los Angeles</td><td>erapinett3@irs.gov</td></tr>",
                            "<tr><td>104</td><td>Weston</td><td>86</td><td>2</td><td>Dallas</td><td>wjewke4$desdev.cn</td></tr>",
                            "<tr><td>105</td><td>Bernie</td><td>80</td><td>2</td><td>Atlanta</td><td>bpauly5@ning.com</td></tr>",
                            "<tr><td>106</td><td>Craggy</td><td>70</td><td>1</td><td>Los Angeles</td><td>c@g.fr</td></tr>",
                            "<tr><td>108</td><td>Regen</td><td>84</td><td>3</td><td>Saint Paul</td><td>roppery8@diigo.com</td></tr>",
                            "<tr><td>109</td><td>Paul</td><td>41</td><td>2</td><td>Chicago</td><td>pbeeson9@newsvine.com</td></tr>",
                            "</table>"
                        ]
                    }
                }
            ],
            "execution_count": 14
        },
        {
            "cell_type": "markdown",
            "source": [
                "#### Filtering with `IN` Keyword\r\n",
                "\r\n",
                "The following query executes all records from the  `person` table where  the city name is either `'New York'`,  `'Chicago'`, `'Los Angeles'`"
            ],
            "metadata": {
                "azdata_cell_guid": "9d7e7117-0a49-4828-b1bd-9baf798cf5d8"
            }
        },
        {
            "cell_type": "code",
            "source": [
                "SELECT\r\n",
                "    *\r\n",
                "FROM\r\n",
                "    dbo.person\r\n",
                "WHERE\r\n",
                "    city IN ('Atlanta', 'Chicago', 'Los Angeles')"
            ],
            "metadata": {
                "azdata_cell_guid": "ef03e738-2607-484b-b203-c8f9c26a6b2a"
            },
            "outputs": [
                {
                    "output_type": "display_data",
                    "data": {
                        "text/html": "(5 rows affected)"
                    },
                    "metadata": {}
                },
                {
                    "output_type": "display_data",
                    "data": {
                        "text/html": "Total execution time: 00:00:00.017"
                    },
                    "metadata": {}
                },
                {
                    "output_type": "execute_result",
                    "execution_count": 11,
                    "data": {
                        "application/vnd.dataresource+json": {
                            "schema": {
                                "fields": [
                                    {
                                        "name": "id"
                                    },
                                    {
                                        "name": "name"
                                    },
                                    {
                                        "name": "age"
                                    },
                                    {
                                        "name": "gender_id"
                                    },
                                    {
                                        "name": "city"
                                    },
                                    {
                                        "name": "email"
                                    }
                                ]
                            },
                            "data": [
                                {
                                    "0": "101",
                                    "1": "Sholom",
                                    "2": "25",
                                    "3": "3",
                                    "4": "Chicago",
                                    "5": "schasmar1@artisteer.com"
                                },
                                {
                                    "0": "103",
                                    "1": "Eolande",
                                    "2": "58",
                                    "3": "3",
                                    "4": "Los Angeles",
                                    "5": "erapinett3@irs.gov"
                                },
                                {
                                    "0": "105",
                                    "1": "Bernie",
                                    "2": "80",
                                    "3": "2",
                                    "4": "Atlanta",
                                    "5": "bpauly5@ning.com"
                                },
                                {
                                    "0": "106",
                                    "1": "Craggy",
                                    "2": "70",
                                    "3": "1",
                                    "4": "Los Angeles",
                                    "5": "cdresche6@google.fr"
                                },
                                {
                                    "0": "109",
                                    "1": "Pall",
                                    "2": "41",
                                    "3": "2",
                                    "4": "Chicago",
                                    "5": "pbeeson9@newsvine.com"
                                }
                            ]
                        },
                        "text/html": "<table><tr><th>id</th><th>name</th><th>age</th><th>gender_id</th><th>city</th><th>email</th></tr><tr><td>101</td><td>Sholom</td><td>25</td><td>3</td><td>Chicago</td><td>schasmar1@artisteer.com</td></tr><tr><td>103</td><td>Eolande</td><td>58</td><td>3</td><td>Los Angeles</td><td>erapinett3@irs.gov</td></tr><tr><td>105</td><td>Bernie</td><td>80</td><td>2</td><td>Atlanta</td><td>bpauly5@ning.com</td></tr><tr><td>106</td><td>Craggy</td><td>70</td><td>1</td><td>Los Angeles</td><td>cdresche6@google.fr</td></tr><tr><td>109</td><td>Pall</td><td>41</td><td>2</td><td>Chicago</td><td>pbeeson9@newsvine.com</td></tr></table>"
                    },
                    "metadata": {}
                }
            ],
            "execution_count": 11
        },
        {
            "cell_type": "markdown",
            "source": [
                "#### Filtering with `BETWEEN` Keyword\r\n",
                "\r\n",
                "The following query executes all records from the  `person` table where the age of the person is in between `'50'` and `'65'`"
            ],
            "metadata": {
                "azdata_cell_guid": "932de6c2-f542-4d34-b297-f5181810e442"
            }
        },
        {
            "cell_type": "code",
            "source": [
                "SELECT\r\n",
                "    *\r\n",
                "FROM\r\n",
                "    dbo.person\r\n",
                "WHERE\r\n",
                "    age BETWEEN 50 AND 65"
            ],
            "metadata": {
                "azdata_cell_guid": "64632d4a-f29c-4dbd-ab1c-23e4a7065348"
            },
            "outputs": [
                {
                    "output_type": "display_data",
                    "data": {
                        "text/html": "(3 rows affected)"
                    },
                    "metadata": {}
                },
                {
                    "output_type": "display_data",
                    "data": {
                        "text/html": "Total execution time: 00:00:00.018"
                    },
                    "metadata": {}
                },
                {
                    "output_type": "execute_result",
                    "execution_count": 12,
                    "data": {
                        "application/vnd.dataresource+json": {
                            "schema": {
                                "fields": [
                                    {
                                        "name": "id"
                                    },
                                    {
                                        "name": "name"
                                    },
                                    {
                                        "name": "age"
                                    },
                                    {
                                        "name": "gender_id"
                                    },
                                    {
                                        "name": "city"
                                    },
                                    {
                                        "name": "email"
                                    }
                                ]
                            },
                            "data": [
                                {
                                    "0": "100",
                                    "1": "Rockie",
                                    "2": "58",
                                    "3": "2",
                                    "4": "New York",
                                    "5": "rastridge0@nifty.com"
                                },
                                {
                                    "0": "103",
                                    "1": "Eolande",
                                    "2": "58",
                                    "3": "3",
                                    "4": "Los Angeles",
                                    "5": "erapinett3@irs.gov"
                                },
                                {
                                    "0": "107",
                                    "1": "Giordano",
                                    "2": "65",
                                    "3": "2",
                                    "4": "New York",
                                    "5": "gburgwyn7@spiegel.de"
                                }
                            ]
                        },
                        "text/html": "<table><tr><th>id</th><th>name</th><th>age</th><th>gender_id</th><th>city</th><th>email</th></tr><tr><td>100</td><td>Rockie</td><td>58</td><td>2</td><td>New York</td><td>rastridge0@nifty.com</td></tr><tr><td>103</td><td>Eolande</td><td>58</td><td>3</td><td>Los Angeles</td><td>erapinett3@irs.gov</td></tr><tr><td>107</td><td>Giordano</td><td>65</td><td>2</td><td>New York</td><td>gburgwyn7@spiegel.de</td></tr></table>"
                    },
                    "metadata": {}
                }
            ],
            "execution_count": 12
        },
        {
            "cell_type": "markdown",
            "source": [
                "#### Filtering with Boolean Operators: OR & AND Operators\r\n",
                "\r\n",
                "The following query executes all records from the person table where the city name is either 'Atlanta' or, 'Los Angeles' and the age is greater than or, equal to '70'"
            ],
            "metadata": {
                "azdata_cell_guid": "f093aadb-e24c-41fa-b12f-25eaa60311c1"
            }
        },
        {
            "cell_type": "code",
            "source": [
                "SELECT\r\n",
                "    *\r\n",
                "FROM\r\n",
                "    dbo.person\r\n",
                "WHERE\r\n",
                "    (city = 'Atlanta' OR city = 'Los Angeles') AND (age >= 70)"
            ],
            "metadata": {
                "azdata_cell_guid": "119bc7cc-fa94-477f-a885-91c6a8f59215"
            },
            "outputs": [
                {
                    "output_type": "display_data",
                    "data": {
                        "text/html": "(2 rows affected)"
                    },
                    "metadata": {}
                },
                {
                    "output_type": "display_data",
                    "data": {
                        "text/html": "Total execution time: 00:00:00.014"
                    },
                    "metadata": {}
                },
                {
                    "output_type": "execute_result",
                    "metadata": {},
                    "execution_count": 17,
                    "data": {
                        "application/vnd.dataresource+json": {
                            "schema": {
                                "fields": [
                                    {
                                        "name": "id"
                                    },
                                    {
                                        "name": "name"
                                    },
                                    {
                                        "name": "age"
                                    },
                                    {
                                        "name": "gender_id"
                                    },
                                    {
                                        "name": "city"
                                    },
                                    {
                                        "name": "email"
                                    }
                                ]
                            },
                            "data": [
                                {
                                    "0": "105",
                                    "1": "Bernie",
                                    "2": "80",
                                    "3": "2",
                                    "4": "Atlanta",
                                    "5": "bpauly5@ning.com"
                                },
                                {
                                    "0": "106",
                                    "1": "Craggy",
                                    "2": "70",
                                    "3": "1",
                                    "4": "Los Angeles",
                                    "5": "c@g.fr"
                                }
                            ]
                        },
                        "text/html": [
                            "<table>",
                            "<tr><th>id</th><th>name</th><th>age</th><th>gender_id</th><th>city</th><th>email</th></tr>",
                            "<tr><td>105</td><td>Bernie</td><td>80</td><td>2</td><td>Atlanta</td><td>bpauly5@ning.com</td></tr>",
                            "<tr><td>106</td><td>Craggy</td><td>70</td><td>1</td><td>Los Angeles</td><td>c@g.fr</td></tr>",
                            "</table>"
                        ]
                    }
                }
            ],
            "execution_count": 17
        },
        {
            "cell_type": "markdown",
            "source": [
                "### Wildcard Text Filtering with `LIKE` Keyword\r\n",
                "\r\n",
                "The following query executes all records from the `person` table where the city name starts with `'L'`."
            ],
            "metadata": {
                "azdata_cell_guid": "92c5e555-1dbb-40ee-9ff7-64cbcade4a68"
            }
        },
        {
            "cell_type": "code",
            "source": [
                "SELECT\r\n",
                "    *\r\n",
                "FROM\r\n",
                "    dbo.person\r\n",
                "WHERE\r\n",
                "    city LIKE 'L%'"
            ],
            "metadata": {
                "azdata_cell_guid": "44be69e8-bd7d-47b5-97a0-715547a8dfba"
            },
            "outputs": [
                {
                    "output_type": "display_data",
                    "data": {
                        "text/html": "(2 rows affected)"
                    },
                    "metadata": {}
                },
                {
                    "output_type": "display_data",
                    "data": {
                        "text/html": "Total execution time: 00:00:00.012"
                    },
                    "metadata": {}
                },
                {
                    "output_type": "execute_result",
                    "metadata": {},
                    "execution_count": 16,
                    "data": {
                        "application/vnd.dataresource+json": {
                            "schema": {
                                "fields": [
                                    {
                                        "name": "id"
                                    },
                                    {
                                        "name": "name"
                                    },
                                    {
                                        "name": "age"
                                    },
                                    {
                                        "name": "gender_id"
                                    },
                                    {
                                        "name": "city"
                                    },
                                    {
                                        "name": "email"
                                    }
                                ]
                            },
                            "data": [
                                {
                                    "0": "103",
                                    "1": "Eolande",
                                    "2": "58",
                                    "3": "3",
                                    "4": "Los Angeles",
                                    "5": "erapinett3@irs.gov"
                                },
                                {
                                    "0": "106",
                                    "1": "Craggy",
                                    "2": "70",
                                    "3": "1",
                                    "4": "Los Angeles",
                                    "5": "c@g.fr"
                                }
                            ]
                        },
                        "text/html": [
                            "<table>",
                            "<tr><th>id</th><th>name</th><th>age</th><th>gender_id</th><th>city</th><th>email</th></tr>",
                            "<tr><td>103</td><td>Eolande</td><td>58</td><td>3</td><td>Los Angeles</td><td>erapinett3@irs.gov</td></tr>",
                            "<tr><td>106</td><td>Craggy</td><td>70</td><td>1</td><td>Los Angeles</td><td>c@g.fr</td></tr>",
                            "</table>"
                        ]
                    }
                }
            ],
            "execution_count": 16
        },
        {
            "cell_type": "markdown",
            "source": [
                "The following query executes all records from the `person` table where email of the person doesn't contain the `'@'` symbol"
            ],
            "metadata": {
                "azdata_cell_guid": "5f0b3f36-ae07-483c-a656-78a39297cce6"
            }
        },
        {
            "cell_type": "code",
            "source": [
                "SELECT\r\n",
                "    *\r\n",
                "FROM\r\n",
                "    dbo.person\r\n",
                "WHERE\r\n",
                "    email NOT LIKE '%@%'"
            ],
            "metadata": {
                "azdata_cell_guid": "7245fa99-e79b-4d79-86d1-3b9e16e01b94",
                "tags": []
            },
            "outputs": [
                {
                    "output_type": "display_data",
                    "data": {
                        "text/html": "(2 rows affected)"
                    },
                    "metadata": {}
                },
                {
                    "output_type": "display_data",
                    "data": {
                        "text/html": "Total execution time: 00:00:00.051"
                    },
                    "metadata": {}
                },
                {
                    "output_type": "execute_result",
                    "metadata": {},
                    "execution_count": 15,
                    "data": {
                        "application/vnd.dataresource+json": {
                            "schema": {
                                "fields": [
                                    {
                                        "name": "id"
                                    },
                                    {
                                        "name": "name"
                                    },
                                    {
                                        "name": "age"
                                    },
                                    {
                                        "name": "gender_id"
                                    },
                                    {
                                        "name": "city"
                                    },
                                    {
                                        "name": "email"
                                    }
                                ]
                            },
                            "data": [
                                {
                                    "0": "102",
                                    "1": "Henka",
                                    "2": "88",
                                    "3": "2",
                                    "4": "Houston",
                                    "5": "hhardwicke2$japanpost.jp"
                                },
                                {
                                    "0": "104",
                                    "1": "Weston",
                                    "2": "86",
                                    "3": "2",
                                    "4": "Dallas",
                                    "5": "wjewke4$desdev.cn"
                                }
                            ]
                        },
                        "text/html": [
                            "<table>",
                            "<tr><th>id</th><th>name</th><th>age</th><th>gender_id</th><th>city</th><th>email</th></tr>",
                            "<tr><td>102</td><td>Henka</td><td>88</td><td>2</td><td>Houston</td><td>hhardwicke2$japanpost.jp</td></tr>",
                            "<tr><td>104</td><td>Weston</td><td>86</td><td>2</td><td>Dallas</td><td>wjewke4$desdev.cn</td></tr>",
                            "</table>"
                        ]
                    }
                }
            ],
            "execution_count": 15
        },
        {
            "cell_type": "markdown",
            "source": [
                "The following query executes all records from the `person` table where the name of the person starts either with `'A'` or, `'R'` or, `'C'`"
            ],
            "metadata": {
                "azdata_cell_guid": "1b2a2109-47fd-4cbc-83a1-b64f00b24d15"
            }
        },
        {
            "cell_type": "code",
            "source": [
                "SELECT \r\n",
                "    TOP (3) [name], [age]\r\n",
                "FROM\r\n",
                "    dbo.person"
            ],
            "metadata": {
                "azdata_cell_guid": "720e62bf-04ef-41d1-8231-d144f71525ba"
            },
            "outputs": [
                {
                    "output_type": "display_data",
                    "data": {
                        "text/html": "(3 rows affected)"
                    },
                    "metadata": {}
                },
                {
                    "output_type": "display_data",
                    "data": {
                        "text/html": "Total execution time: 00:00:00.010"
                    },
                    "metadata": {}
                },
                {
                    "output_type": "execute_result",
                    "execution_count": 27,
                    "data": {
                        "application/vnd.dataresource+json": {
                            "schema": {
                                "fields": [
                                    {
                                        "name": "name"
                                    },
                                    {
                                        "name": "age"
                                    }
                                ]
                            },
                            "data": [
                                {
                                    "0": "Rockie",
                                    "1": "58"
                                },
                                {
                                    "0": "Sholom",
                                    "1": "25"
                                },
                                {
                                    "0": "Henka",
                                    "1": "88"
                                }
                            ]
                        },
                        "text/html": "<table><tr><th>name</th><th>age</th></tr><tr><td>Rockie</td><td>58</td></tr><tr><td>Sholom</td><td>25</td></tr><tr><td>Henka</td><td>88</td></tr></table>"
                    },
                    "metadata": {}
                }
            ],
            "execution_count": 27
        },
        {
            "cell_type": "code",
            "source": [
                "SELECT\r\n",
                "    *\r\n",
                "FROM\r\n",
                "    dbo.person\r\n",
                "WHERE\r\n",
                "    name LIKE '[ARC]%'"
            ],
            "metadata": {
                "azdata_cell_guid": "b10aa55d-95f6-401b-beb6-a84338136732"
            },
            "outputs": [
                {
                    "output_type": "display_data",
                    "data": {
                        "text/html": "(3 rows affected)"
                    },
                    "metadata": {}
                },
                {
                    "output_type": "display_data",
                    "data": {
                        "text/html": "Total execution time: 00:00:00.011"
                    },
                    "metadata": {}
                },
                {
                    "output_type": "execute_result",
                    "execution_count": 21,
                    "data": {
                        "application/vnd.dataresource+json": {
                            "schema": {
                                "fields": [
                                    {
                                        "name": "id"
                                    },
                                    {
                                        "name": "name"
                                    },
                                    {
                                        "name": "age"
                                    },
                                    {
                                        "name": "gender_id"
                                    },
                                    {
                                        "name": "city"
                                    },
                                    {
                                        "name": "email"
                                    }
                                ]
                            },
                            "data": [
                                {
                                    "0": "100",
                                    "1": "Rockie",
                                    "2": "58",
                                    "3": "2",
                                    "4": "New York",
                                    "5": "rastridge0@nifty.com"
                                },
                                {
                                    "0": "106",
                                    "1": "Craggy",
                                    "2": "70",
                                    "3": "1",
                                    "4": "Los Angeles",
                                    "5": "cdresche6@google.fr"
                                },
                                {
                                    "0": "108",
                                    "1": "Regen",
                                    "2": "84",
                                    "3": "3",
                                    "4": "Saint Paul",
                                    "5": "roppery8@diigo.com"
                                }
                            ]
                        },
                        "text/html": "<table><tr><th>id</th><th>name</th><th>age</th><th>gender_id</th><th>city</th><th>email</th></tr><tr><td>100</td><td>Rockie</td><td>58</td><td>2</td><td>New York</td><td>rastridge0@nifty.com</td></tr><tr><td>106</td><td>Craggy</td><td>70</td><td>1</td><td>Los Angeles</td><td>cdresche6@google.fr</td></tr><tr><td>108</td><td>Regen</td><td>84</td><td>3</td><td>Saint Paul</td><td>roppery8@diigo.com</td></tr></table>"
                    },
                    "metadata": {}
                }
            ],
            "execution_count": 21
        }
    ]
}