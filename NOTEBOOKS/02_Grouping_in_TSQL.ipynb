{
    "metadata": {
        "kernelspec": {
            "name": "SQL",
            "display_name": "SQL",
            "language": "sql"
        },
        "language_info": {
            "name": "sql",
            "version": ""
        },
        "extensions": {
            "azuredatastudio": {
                "version": 1,
                "views": []
            }
        }
    },
    "nbformat_minor": 2,
    "nbformat": 4,
    "cells": [
        {
            "cell_type": "markdown",
            "source": [
                "# Grouping in SQL\r\n",
                "\r\n",
                "This notebook specifically covers the `GROUP BY` clause and the different concepts covered here are as follows:\r\n",
                "\r\n",
                "- Basic `GROUP BY` Clause\r\n",
                "- Sorting with `GROUP BY`\r\n",
                "- Filtering with `GROUP BY`\r\n",
                "    - Filtering with `HAVING` Clause\r\n",
                "    - Filtering with `WHERE` Clause"
            ],
            "metadata": {
                "azdata_cell_guid": "b8e4d8ac-ee3b-4eec-bc6e-7213166a8418"
            }
        },
        {
            "cell_type": "markdown",
            "source": [
                "### Connecting to DemoDB Database\r\n",
                "\r\n",
                "The following query connects to the DemoDB database"
            ],
            "metadata": {
                "azdata_cell_guid": "50c7ae8d-bf87-4a0a-b504-ceb4bef16d64"
            }
        },
        {
            "cell_type": "code",
            "source": [
                "USE DemoDB\r\n",
                "GO"
            ],
            "metadata": {
                "azdata_cell_guid": "f74ab1c0-c41b-4d46-a8ef-5fee2c5960cd"
            },
            "outputs": [
                {
                    "output_type": "display_data",
                    "data": {
                        "text/html": "Commands completed successfully."
                    },
                    "metadata": {}
                },
                {
                    "output_type": "display_data",
                    "data": {
                        "text/html": "Total execution time: 00:00:00.024"
                    },
                    "metadata": {}
                }
            ],
            "execution_count": 1
        },
        {
            "cell_type": "markdown",
            "source": [
                "### Basic `GROUP BY` Clause\r\n",
                "\r\n",
                "The following query executes the aggregated numbers from the `characters` table"
            ],
            "metadata": {
                "azdata_cell_guid": "0e1be8cf-214d-441c-9633-24f9d5ce0606"
            }
        },
        {
            "cell_type": "code",
            "source": [
                "SELECT \r\n",
                "    COUNT(id) AS 'Total Characters',\r\n",
                "    SUM(salary) AS 'Total Salary',\r\n",
                "    MIN(salary) AS 'Minimum Salary',\r\n",
                "    MAX(salary) AS 'Maximum Salary',\r\n",
                "    AVG(salary) AS 'Average Salary'\r\n",
                "FROM\r\n",
                "    dbo.characters "
            ],
            "metadata": {
                "azdata_cell_guid": "3833b629-e31d-47e7-82fd-691c96f51c6e"
            },
            "outputs": [
                {
                    "output_type": "display_data",
                    "data": {
                        "text/html": "(1 row affected)"
                    },
                    "metadata": {}
                },
                {
                    "output_type": "display_data",
                    "data": {
                        "text/html": "Total execution time: 00:00:00.035"
                    },
                    "metadata": {}
                },
                {
                    "output_type": "execute_result",
                    "execution_count": 7,
                    "data": {
                        "application/vnd.dataresource+json": {
                            "schema": {
                                "fields": [
                                    {
                                        "name": "Total Characters"
                                    },
                                    {
                                        "name": "Total Salary"
                                    },
                                    {
                                        "name": "Minimum Salary"
                                    },
                                    {
                                        "name": "Maximum Salary"
                                    },
                                    {
                                        "name": "Average Salary"
                                    }
                                ]
                            },
                            "data": [
                                {
                                    "0": "10",
                                    "1": "44438",
                                    "2": "2283",
                                    "3": "6338",
                                    "4": "4443"
                                }
                            ]
                        },
                        "text/html": "<table><tr><th>Total Characters</th><th>Total Salary</th><th>Minimum Salary</th><th>Maximum Salary</th><th>Average Salary</th></tr><tr><td>10</td><td>44438</td><td>2283</td><td>6338</td><td>4443</td></tr></table>"
                    },
                    "metadata": {}
                }
            ],
            "execution_count": 7
        },
        {
            "cell_type": "markdown",
            "source": [
                "The following query executes the aggregated salary by cities from the `characters` table"
            ],
            "metadata": {
                "azdata_cell_guid": "285fa949-7c27-4be7-bd01-ebbe0312387d"
            }
        },
        {
            "cell_type": "code",
            "source": [
                "SELECT \r\n",
                "    city,\r\n",
                "    SUM(salary) AS 'Total Salary'\r\n",
                "FROM\r\n",
                "    dbo.characters\r\n",
                "GROUP BY\r\n",
                "    city"
            ],
            "metadata": {
                "azdata_cell_guid": "9929dd4a-b670-4394-beff-9d59ce04c1e6"
            },
            "outputs": [
                {
                    "output_type": "display_data",
                    "data": {
                        "text/html": "(3 rows affected)"
                    },
                    "metadata": {}
                },
                {
                    "output_type": "display_data",
                    "data": {
                        "text/html": "Total execution time: 00:00:00.025"
                    },
                    "metadata": {}
                },
                {
                    "output_type": "execute_result",
                    "execution_count": 6,
                    "data": {
                        "application/vnd.dataresource+json": {
                            "schema": {
                                "fields": [
                                    {
                                        "name": "city"
                                    },
                                    {
                                        "name": "Total Salary"
                                    }
                                ]
                            },
                            "data": [
                                {
                                    "0": "London",
                                    "1": "15739"
                                },
                                {
                                    "0": "New York",
                                    "1": "11783"
                                },
                                {
                                    "0": "Sydney",
                                    "1": "16916"
                                }
                            ]
                        },
                        "text/html": "<table><tr><th>city</th><th>Total Salary</th></tr><tr><td>London</td><td>15739</td></tr><tr><td>New York</td><td>11783</td></tr><tr><td>Sydney</td><td>16916</td></tr></table>"
                    },
                    "metadata": {}
                }
            ],
            "execution_count": 6
        },
        {
            "cell_type": "markdown",
            "source": [
                "### Sorting with `GROUP BY`\r\n",
                "\r\n",
                "The following query executes the total number of characters along with the aggregated salary by `'city'` and `'gender'` columns sorted in ascending order of city name followed by the ascending order of gender"
            ],
            "metadata": {
                "azdata_cell_guid": "33d5af61-ce5c-4414-8715-86409be512a1"
            }
        },
        {
            "cell_type": "code",
            "source": [
                "SELECT \r\n",
                "    city,\r\n",
                "    gender,\r\n",
                "    COUNT(id) AS 'Total Characters',\r\n",
                "    SUM(salary) AS 'Total Salary'\r\n",
                "FROM\r\n",
                "    dbo.characters\r\n",
                "GROUP BY\r\n",
                "    city, gender\r\n",
                "ORDER BY\r\n",
                "    city, gender"
            ],
            "metadata": {
                "azdata_cell_guid": "f2e115a2-09dc-4546-972c-40612cbad2e4",
                "tags": []
            },
            "outputs": [
                {
                    "output_type": "display_data",
                    "data": {
                        "text/html": "(5 rows affected)"
                    },
                    "metadata": {}
                },
                {
                    "output_type": "display_data",
                    "data": {
                        "text/html": "Total execution time: 00:00:00.010"
                    },
                    "metadata": {}
                },
                {
                    "output_type": "execute_result",
                    "execution_count": 10,
                    "data": {
                        "application/vnd.dataresource+json": {
                            "schema": {
                                "fields": [
                                    {
                                        "name": "city"
                                    },
                                    {
                                        "name": "gender"
                                    },
                                    {
                                        "name": "Total Characters"
                                    },
                                    {
                                        "name": "Total Salary"
                                    }
                                ]
                            },
                            "data": [
                                {
                                    "0": "London",
                                    "1": "Female",
                                    "2": "1",
                                    "3": "2395"
                                },
                                {
                                    "0": "London",
                                    "1": "Male",
                                    "2": "3",
                                    "3": "13344"
                                },
                                {
                                    "0": "New York",
                                    "1": "Female",
                                    "2": "3",
                                    "3": "11783"
                                },
                                {
                                    "0": "Sydney",
                                    "1": "Female",
                                    "2": "1",
                                    "3": "5424"
                                },
                                {
                                    "0": "Sydney",
                                    "1": "Male",
                                    "2": "2",
                                    "3": "11492"
                                }
                            ]
                        },
                        "text/html": "<table><tr><th>city</th><th>gender</th><th>Total Characters</th><th>Total Salary</th></tr><tr><td>London</td><td>Female</td><td>1</td><td>2395</td></tr><tr><td>London</td><td>Male</td><td>3</td><td>13344</td></tr><tr><td>New York</td><td>Female</td><td>3</td><td>11783</td></tr><tr><td>Sydney</td><td>Female</td><td>1</td><td>5424</td></tr><tr><td>Sydney</td><td>Male</td><td>2</td><td>11492</td></tr></table>"
                    },
                    "metadata": {}
                }
            ],
            "execution_count": 10
        },
        {
            "cell_type": "markdown",
            "source": [
                "### Filtering with `GROUP BY`\r\n",
                "\r\n",
                "The `HAVING` clause is used to filter the grouped results, however, we can also use the `WHERE` clause but, it needs to come in the SQL statement before the `GROUP BY` clause\r\n",
                ""
            ],
            "metadata": {
                "azdata_cell_guid": "a19bd2b7-eca2-4ed8-8faf-d7bf997f7f23"
            }
        },
        {
            "cell_type": "markdown",
            "source": [
                "#### Filtering with `HAVING` Clause\r\n",
                "\r\n",
                "The following query executes the total number of characters along with the aggregated salary by `'city'` and `'gender'` columns sorted by the descending order of salary and when the gender is `'Female'`"
            ],
            "metadata": {
                "azdata_cell_guid": "6170b095-fd98-49b4-af27-1c972da56904"
            }
        },
        {
            "cell_type": "code",
            "source": [
                "SELECT \r\n",
                "    city,\r\n",
                "    gender,\r\n",
                "    COUNT(id) AS 'Total Characters',\r\n",
                "    SUM(salary) AS 'Total Salary'\r\n",
                "FROM\r\n",
                "    dbo.characters\r\n",
                "GROUP BY\r\n",
                "    city, gender\r\n",
                "HAVING\r\n",
                "    gender = 'Female'\r\n",
                "ORDER BY\r\n",
                "    [Total Salary] DESC"
            ],
            "metadata": {
                "azdata_cell_guid": "e4799fe8-91a0-4905-a83f-46a5d99577c8"
            },
            "outputs": [
                {
                    "output_type": "display_data",
                    "data": {
                        "text/html": "(3 rows affected)"
                    },
                    "metadata": {}
                },
                {
                    "output_type": "display_data",
                    "data": {
                        "text/html": "Total execution time: 00:00:00.011"
                    },
                    "metadata": {}
                },
                {
                    "output_type": "execute_result",
                    "execution_count": 14,
                    "data": {
                        "application/vnd.dataresource+json": {
                            "schema": {
                                "fields": [
                                    {
                                        "name": "city"
                                    },
                                    {
                                        "name": "gender"
                                    },
                                    {
                                        "name": "Total Characters"
                                    },
                                    {
                                        "name": "Total Salary"
                                    }
                                ]
                            },
                            "data": [
                                {
                                    "0": "New York",
                                    "1": "Female",
                                    "2": "3",
                                    "3": "11783"
                                },
                                {
                                    "0": "Sydney",
                                    "1": "Female",
                                    "2": "1",
                                    "3": "5424"
                                },
                                {
                                    "0": "London",
                                    "1": "Female",
                                    "2": "1",
                                    "3": "2395"
                                }
                            ]
                        },
                        "text/html": "<table><tr><th>city</th><th>gender</th><th>Total Characters</th><th>Total Salary</th></tr><tr><td>New York</td><td>Female</td><td>3</td><td>11783</td></tr><tr><td>Sydney</td><td>Female</td><td>1</td><td>5424</td></tr><tr><td>London</td><td>Female</td><td>1</td><td>2395</td></tr></table>"
                    },
                    "metadata": {}
                }
            ],
            "execution_count": 14
        },
        {
            "cell_type": "markdown",
            "source": [
                "#### Filtering with `WHERE` Clause\r\n",
                "\r\n",
                "The following query executes the total number of characters along with the aggregated salary by `'city'` and `'gender'` columns sorted by the descending order of salary and when the gender is `'Male'`"
            ],
            "metadata": {
                "azdata_cell_guid": "1d59b51a-cb6c-427a-8782-f3f60f37cf70"
            }
        },
        {
            "cell_type": "code",
            "source": [
                "SELECT \r\n",
                "    city,\r\n",
                "    gender,\r\n",
                "    COUNT(id) AS 'Total Characters',\r\n",
                "    SUM(salary) AS 'Total Salary'\r\n",
                "FROM\r\n",
                "    dbo.characters\r\n",
                "GROUP BY\r\n",
                "    city, gender\r\n",
                "HAVING\r\n",
                "    gender = 'Male'\r\n",
                "ORDER BY\r\n",
                "    [Total Salary] DESC"
            ],
            "metadata": {
                "azdata_cell_guid": "7df37bd2-3645-45c8-9daf-4f8fa5cdcf82"
            },
            "outputs": [
                {
                    "output_type": "display_data",
                    "data": {
                        "text/html": "(2 rows affected)"
                    },
                    "metadata": {}
                },
                {
                    "output_type": "display_data",
                    "data": {
                        "text/html": "Total execution time: 00:00:00.020"
                    },
                    "metadata": {}
                },
                {
                    "output_type": "execute_result",
                    "metadata": {},
                    "execution_count": 1,
                    "data": {
                        "application/vnd.dataresource+json": {
                            "schema": {
                                "fields": [
                                    {
                                        "name": "city"
                                    },
                                    {
                                        "name": "gender"
                                    },
                                    {
                                        "name": "Total Characters"
                                    },
                                    {
                                        "name": "Total Salary"
                                    }
                                ]
                            },
                            "data": [
                                {
                                    "0": "London",
                                    "1": "Male",
                                    "2": "3",
                                    "3": "13344"
                                },
                                {
                                    "0": "Sydney",
                                    "1": "Male",
                                    "2": "2",
                                    "3": "11492"
                                }
                            ]
                        },
                        "text/html": [
                            "<table>",
                            "<tr><th>city</th><th>gender</th><th>Total Characters</th><th>Total Salary</th></tr>",
                            "<tr><td>London</td><td>Male</td><td>3</td><td>13344</td></tr>",
                            "<tr><td>Sydney</td><td>Male</td><td>2</td><td>11492</td></tr>",
                            "</table>"
                        ]
                    }
                }
            ],
            "execution_count": 1
        }
    ]
}